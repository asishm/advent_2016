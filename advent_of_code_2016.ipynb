{
 "cells": [
  {
   "cell_type": "code",
   "execution_count": 1,
   "metadata": {
    "collapsed": true
   },
   "outputs": [],
   "source": [
    "import re\n",
    "import requests\n",
    "from bs4 import BeautifulSoup\n",
    "import numpy as np\n",
    "from base64 import b64decode, b64encode\n",
    "from collections import defaultdict\n",
    "from functools import partial, wraps\n",
    "from hashlib import md5, sha1, sha256\n",
    "from itertools import chain, combinations, combinations_with_replacement, \\\n",
    "    count, cycle, permutations, product\n",
    "from math import ceil, cos, exp, floor, pi, sin, sqrt\n",
    "from operator import itemgetter, mul\n",
    "import pandas as pd"
   ]
  },
  {
   "cell_type": "code",
   "execution_count": 2,
   "metadata": {
    "collapsed": false
   },
   "outputs": [
    {
     "name": "stdout",
     "output_type": "stream",
     "text": [
      "(-123, -123) 246\n"
     ]
    }
   ],
   "source": [
    "#1\n",
    "with open(\"day_1.txt\") as f:\n",
    "    inp_1 = f.read().strip()\n",
    "inp_1 = inp_1.replace(',', '').split()\n",
    "\n",
    "d = {'N': {'L': 'W', 'R': 'E'},\n",
    "     'S': {'L': 'E', 'R':'W'},\n",
    "     'E': {'L': \"N\", 'R': \"S\"},\n",
    "     'W': {'L': \"S\", 'R':'N'}}\n",
    "\n",
    "def new_pos(pos, old_dir, inst):\n",
    "    try:\n",
    "        new_dir = d[old_dir][inst[0]]\n",
    "        new_dist = int(inst[1:])\n",
    "        new_tup = {'N': lambda x: (0, x), 'S': lambda x: (0, -x), 'E': lambda x: (x, 0), 'W': lambda x: (-x, 0)}\n",
    "        pos = pos[0] + new_tup[new_dir](new_dist)[0], pos[1] + new_tup[new_dir](new_dist)[1]\n",
    "        return pos, new_dir\n",
    "    except Exception as e:\n",
    "        print(e, pos, old_dir, inst)\n",
    "\n",
    "start = (0,0)\n",
    "direction = \"N\"\n",
    "for inst in inp_1:\n",
    "    start, direction = new_pos(start, direction, inst.strip())\n",
    "\n",
    "print(start, abs(start[0]) + abs(start[1]))"
   ]
  },
  {
   "cell_type": "code",
   "execution_count": 3,
   "metadata": {
    "collapsed": false,
    "scrolled": true
   },
   "outputs": [
    {
     "name": "stdout",
     "output_type": "stream",
     "text": [
      "(-109, -15) 124\n"
     ]
    }
   ],
   "source": [
    "#2\n",
    "def solve_1b(inp, debug=False):\n",
    "    import builtins\n",
    "    print = builtins.print if debug else lambda *x: None\n",
    "    start = (0,0)\n",
    "    visited = set()\n",
    "    direction = \"N\"\n",
    "    visited.add(start)\n",
    "    flag = False\n",
    "    for inst in inp:\n",
    "        if flag:\n",
    "            break\n",
    "        n_pos, n_dir = new_pos(start, direction, inst.strip())\n",
    "        print('next_pos', n_pos, inst)\n",
    "        if n_pos[0] == start[0]:\n",
    "            if n_pos[1] > start[1]:\n",
    "                for i in range(start[1] + 1, n_pos[1] + 1):\n",
    "                    cur_pos = (n_pos[0], i)\n",
    "                    print(cur_pos)\n",
    "                    if cur_pos in visited:\n",
    "                        print('break', cur_pos)\n",
    "                        flag = True\n",
    "                        break\n",
    "                    visited.add(cur_pos)\n",
    "            else:\n",
    "                for i in range(start[1] - 1, n_pos[1] -1, -1):\n",
    "                    cur_pos = (n_pos[0], i)\n",
    "                    print(cur_pos)\n",
    "                    if cur_pos in visited:\n",
    "                        print('break', cur_pos)\n",
    "                        flag = True\n",
    "                        break\n",
    "                    visited.add(cur_pos)\n",
    "        else:\n",
    "            if n_pos[0] > start[0]:\n",
    "                for i in range(start[0] + 1, n_pos[0] + 1):\n",
    "                    cur_pos = (i, n_pos[1])\n",
    "                    print(cur_pos)\n",
    "                    if cur_pos in visited:\n",
    "                        print('break', cur_pos)\n",
    "                        flag = True\n",
    "                        break\n",
    "                    visited.add(cur_pos)\n",
    "            else:\n",
    "                for i in range(start[0] - 1, n_pos[0] - 1, -1):\n",
    "                    cur_pos = (i, n_pos[1])\n",
    "                    print(cur_pos)\n",
    "                    if cur_pos in visited:\n",
    "                        print('break', cur_pos)\n",
    "                        flag = True\n",
    "                        break\n",
    "                    visited.add(cur_pos)\n",
    "        start, direction = n_pos, n_dir\n",
    "    return cur_pos\n",
    "\n",
    "res = solve_1b(inp_1)\n",
    "print(res, abs(res[0]) + abs(res[1]))"
   ]
  },
  {
   "cell_type": "code",
   "execution_count": 4,
   "metadata": {
    "collapsed": false
   },
   "outputs": [
    {
     "name": "stdout",
     "output_type": "stream",
     "text": [
      "53255"
     ]
    }
   ],
   "source": [
    "#3\n",
    "with open(\"day_2.txt\") as f:\n",
    "    inp_2 = f.read().strip()\n",
    "inp_2 = inp_2.split()\n",
    "\n",
    "def solve_2(inst_list, keypad, start):\n",
    "    direc = {'U': (-1, 0), 'D': (1, 0), 'L': (0, -1), 'R': (0, 1)}\n",
    "    for inst in inst_list:\n",
    "        for letter in inst:\n",
    "            x, y = direc[letter]\n",
    "            x, y = max(start[0] + x, 0), max(start[1] + y, 0)\n",
    "            try:\n",
    "                if keypad[x][y] == 0:\n",
    "                    raise IndexError\n",
    "            except IndexError:\n",
    "                pass\n",
    "            else:\n",
    "                start = x, y\n",
    "\n",
    "            #print(start, keypad[start[0]][start[1]])\n",
    "        print(keypad[start[0]][start[1]], end='')\n",
    "\n",
    "solve_2(inp_2, [[1,2,3], [4,5,6], [7,8,9]], (1,1))"
   ]
  },
  {
   "cell_type": "code",
   "execution_count": 5,
   "metadata": {
    "collapsed": false
   },
   "outputs": [
    {
     "name": "stdout",
     "output_type": "stream",
     "text": [
      "7423A"
     ]
    }
   ],
   "source": [
    "#4\n",
    "solve_2(inp_2, [[0,0,1,0,0], \n",
    "                    [0,2,3,4,0], \n",
    "                    [5,6,7,8,9], \n",
    "                    [0,'A','B','C',0],\n",
    "                    [0,0,'D',0,0]], (2, 0))"
   ]
  },
  {
   "cell_type": "code",
   "execution_count": 6,
   "metadata": {
    "collapsed": false
   },
   "outputs": [
    {
     "data": {
      "text/plain": [
       "1050"
      ]
     },
     "execution_count": 6,
     "metadata": {},
     "output_type": "execute_result"
    }
   ],
   "source": [
    "#5\n",
    "with open(\"day_3.txt\") as f:\n",
    "    inp3 = f.read().strip()\n",
    "    \n",
    "inp3a = [sorted(map(int, k.split())) for k in inp3.split('\\n')]\n",
    "len(list(filter(lambda x: x[0] + x[1] > x[2], inp3a)))"
   ]
  },
  {
   "cell_type": "code",
   "execution_count": 7,
   "metadata": {
    "collapsed": false
   },
   "outputs": [
    {
     "data": {
      "text/plain": [
       "1921"
      ]
     },
     "execution_count": 7,
     "metadata": {},
     "output_type": "execute_result"
    }
   ],
   "source": [
    "#6\n",
    "inp3b = inp3.split()\n",
    "ninp = []\n",
    "\n",
    "for i in range(len(inp3b)//3):\n",
    "    if i % 3 == 0:\n",
    "        ninp.append(sorted(list(map(int, [inp3b[i*3], inp3b[i*3 + 3], inp3b[i*3+6]]))))\n",
    "    elif i % 3 == 1:\n",
    "        ninp.append(sorted(list(map(int, [inp3b[(i-1)*3 + 1], inp3b[(i-1)*3 + 4], inp3b[(i-1)*3 + 7]]))))\n",
    "    else:\n",
    "        ninp.append(sorted(list(map(int, [inp3b[(i-2)*3 + 2], inp3b[(i-2)*3 + 5], inp3b[(i-2)*3 + 8]]))))\n",
    "\n",
    "len(list(filter(lambda x: x[0] + x[1] > x[2], ninp)))"
   ]
  },
  {
   "cell_type": "code",
   "execution_count": 8,
   "metadata": {
    "collapsed": false
   },
   "outputs": [
    {
     "name": "stdout",
     "output_type": "stream",
     "text": [
      "409147\n"
     ]
    }
   ],
   "source": [
    "#7\n",
    "from collections import Counter\n",
    "import re\n",
    "\n",
    "with open(\"day_4.txt\") as f:\n",
    "    inp_4 = f.read().strip()\n",
    "inp_4 = inp_4.split('\\n')\n",
    "\n",
    "def is_real(s, k):\n",
    "    s = Counter(s.replace('-', ''))\n",
    "    counts = sorted(s.items(), key=lambda x: (-x[1], x[0]))\n",
    "    return ''.join(map(lambda x: x[0], counts[:5])) == re.findall(r'\\[(.*)\\]', k)[0]\n",
    "\n",
    "total = 0\n",
    "inp_filter = []\n",
    "for ele in inp_4:\n",
    "    s, k = ele.rsplit('-', 1)\n",
    "    if is_real(s, k):\n",
    "        num = int(re.findall(r'\\d+', k)[0])\n",
    "        inp_filter.append([s, num])\n",
    "        total += num\n",
    "        \n",
    "print(total)"
   ]
  },
  {
   "cell_type": "code",
   "execution_count": 9,
   "metadata": {
    "collapsed": false
   },
   "outputs": [
    {
     "name": "stdout",
     "output_type": "stream",
     "text": [
      "991\n"
     ]
    }
   ],
   "source": [
    "#8\n",
    "import string\n",
    "def shift(s, k):\n",
    "    s = s.split('-')\n",
    "    k = k%26\n",
    "    d = {}\n",
    "    for c in string.ascii_lowercase:\n",
    "        d[c] = (ord(c) - ord('a') + k)%26 + ord('a')\n",
    "    table = str.maketrans(d)\n",
    "    return ' '.join(i.translate(table) for i in s)\n",
    "\n",
    "for s, k in inp_filter:\n",
    "    b = shift(s, k)\n",
    "    if \"northpole\" in b:\n",
    "        print(k)\n",
    "        break"
   ]
  },
  {
   "cell_type": "code",
   "execution_count": 10,
   "metadata": {
    "collapsed": false
   },
   "outputs": [
    {
     "name": "stdout",
     "output_type": "stream",
     "text": [
      "1a3099aa\n"
     ]
    }
   ],
   "source": [
    "#9\n",
    "with open('day_5.txt') as f:\n",
    "    salt = f.read().strip()\n",
    "answer_2 = {}\n",
    "answer_1 = []\n",
    "start = 0\n",
    "\n",
    "while len(answer_2) != 8:\n",
    "    digest = md5((salt + str(start)).encode()).hexdigest()\n",
    "    if digest.startswith('00000'):\n",
    "        #print(digest)\n",
    "        answer_1.append(digest[5])\n",
    "        try:\n",
    "            pos = int(digest[5])\n",
    "        except ValueError:\n",
    "            pos = None\n",
    "        if pos is not None and pos < 8:\n",
    "            if pos not in answer_2:\n",
    "                answer_2[pos] = digest[6]\n",
    "    start += 1\n",
    "\n",
    "print(''.join(answer_1)[:8])"
   ]
  },
  {
   "cell_type": "code",
   "execution_count": 11,
   "metadata": {
    "collapsed": false
   },
   "outputs": [
    {
     "name": "stdout",
     "output_type": "stream",
     "text": [
      "694190cd\n"
     ]
    }
   ],
   "source": [
    "#10\n",
    "print(''.join(answer_2[k] for k in range(8)))"
   ]
  },
  {
   "cell_type": "code",
   "execution_count": 12,
   "metadata": {
    "collapsed": false
   },
   "outputs": [
    {
     "name": "stdout",
     "output_type": "stream",
     "text": [
      "gebzfnbt\n"
     ]
    }
   ],
   "source": [
    "#11\n",
    "with open(\"day_6.txt\") as f:\n",
    "    inp_6 = f.read().strip().split('\\n')\n",
    "    \n",
    "print(''.join(Counter(k).most_common()[0][0] for k in zip(*inp_6)))"
   ]
  },
  {
   "cell_type": "code",
   "execution_count": 13,
   "metadata": {
    "collapsed": false
   },
   "outputs": [
    {
     "name": "stdout",
     "output_type": "stream",
     "text": [
      "fykjtwyn\n"
     ]
    }
   ],
   "source": [
    "#12\n",
    "print(''.join(Counter(k).most_common()[-1][0] for k in zip(*inp_6)))"
   ]
  },
  {
   "cell_type": "code",
   "execution_count": 14,
   "metadata": {
    "collapsed": false
   },
   "outputs": [
    {
     "name": "stdout",
     "output_type": "stream",
     "text": [
      "115\n"
     ]
    }
   ],
   "source": [
    "#13\n",
    "with open(\"day_7.txt\") as f:\n",
    "    inp_7 = f.read().strip().split('\\n')\n",
    "\n",
    "def is_valid(s):\n",
    "    braces = re.findall(r'\\[(.*?)\\]', s)\n",
    "    non_braces = re.sub(r'(\\[.*?\\])', ' ', s).split()\n",
    "    for brace in braces:\n",
    "        try:\n",
    "            a = re.findall(r'(.)(.)\\2\\1', brace)[0]\n",
    "        except IndexError:\n",
    "            a = ''\n",
    "        if len(set(a)) == 2:\n",
    "            return False\n",
    "    for s in non_braces:\n",
    "        try:\n",
    "            a = re.findall(r'(.)(.)\\2\\1', s)[0]\n",
    "        except IndexError:\n",
    "            a = ''\n",
    "        if len(set(a)) == 2:\n",
    "            return True\n",
    "    return False\n",
    "\n",
    "print(sum(is_valid(k) for k in inp_7))"
   ]
  },
  {
   "cell_type": "code",
   "execution_count": 15,
   "metadata": {
    "collapsed": false
   },
   "outputs": [
    {
     "name": "stdout",
     "output_type": "stream",
     "text": [
      "231\n"
     ]
    }
   ],
   "source": [
    "#14\n",
    "def is_valid2(s):\n",
    "    braces = re.findall(r'\\[(.*?)\\]', s)\n",
    "    non_braces = re.sub(r'(\\[.*?\\])', ' ', s).split()\n",
    "    to_check = []\n",
    "    for brace in braces:\n",
    "        for i, c  in enumerate(brace):\n",
    "            a = re.findall(r'(.)(.)\\1', brace[i:i+3])\n",
    "            if a and len(set(a[0])) == 2:\n",
    "                to_check.append(a[0][1]+a[0][0]+a[0][1])\n",
    "    for check in to_check:\n",
    "        for brace in non_braces:\n",
    "            if check in brace:\n",
    "                return True\n",
    "    return False\n",
    "\n",
    "print(sum(is_valid2(k) for k in inp_7))"
   ]
  },
  {
   "cell_type": "code",
   "execution_count": 16,
   "metadata": {
    "collapsed": false
   },
   "outputs": [
    {
     "data": {
      "text/plain": [
       "119.0"
      ]
     },
     "execution_count": 16,
     "metadata": {},
     "output_type": "execute_result"
    }
   ],
   "source": [
    "#15\n",
    "with open(\"day_8.txt\") as f:\n",
    "    inp_8 = f.read().strip().split('\\n')\n",
    "    \n",
    "def modify(df, inst):\n",
    "    def rect(df, inst):\n",
    "        a,b = map(int, inst.split()[1].split('x'))\n",
    "        df.loc[0:b-1, 0:a-1] = 1\n",
    "    def rot(df, inst):\n",
    "        inst = inst.split()\n",
    "        b = int(inst[-1])\n",
    "        a = int(inst[2].split('=')[1])\n",
    "        if 'column' in inst:\n",
    "            vals = list(df.loc[:,a].values)\n",
    "            vals = vals[-b:] + vals[:-b]\n",
    "            df.loc[:, a] = vals\n",
    "        else:\n",
    "            vals = list(df.loc[a,:].values)\n",
    "            vals = vals[-b:] + vals[:-b]\n",
    "            df.loc[a, :] = vals\n",
    "        \n",
    "    if 'rect' in inst:\n",
    "        rect(df, inst)\n",
    "    else:\n",
    "        rot(df, inst)\n",
    "        \n",
    "df = pd.DataFrame(np.zeros((6, 50)))\n",
    "for inst in inp_8:\n",
    "    modify(df, inst)\n",
    "df.sum().sum()"
   ]
  },
  {
   "cell_type": "code",
   "execution_count": 17,
   "metadata": {
    "collapsed": false
   },
   "outputs": [
    {
     "name": "stdout",
     "output_type": "stream",
     "text": [
      "**** \n",
      "   * \n",
      "  *  \n",
      " *   \n",
      "*    \n",
      "****  \n",
      "\n",
      "**** \n",
      "*    \n",
      "***  \n",
      "*    \n",
      "*    \n",
      "*     \n",
      "\n",
      "*  * \n",
      "*  * \n",
      "**** \n",
      "*  * \n",
      "*  * \n",
      "*  *  \n",
      "\n",
      "**** \n",
      "*    \n",
      "***  \n",
      "*    \n",
      "*    \n",
      "*     \n",
      "\n",
      " *** \n",
      "*    \n",
      "*    \n",
      " **  \n",
      "   * \n",
      "***   \n",
      "\n",
      "**** \n",
      "*    \n",
      "***  \n",
      "*    \n",
      "*    \n",
      "*     \n",
      "\n",
      " **  \n",
      "*  * \n",
      "*  * \n",
      "*  * \n",
      "*  * \n",
      " **   \n",
      "\n",
      " **  \n",
      "*  * \n",
      "*    \n",
      "* ** \n",
      "*  * \n",
      " ***  \n",
      "\n",
      "***  \n",
      "*  * \n",
      "*  * \n",
      "***  \n",
      "*    \n",
      "*     \n",
      "\n",
      " **  \n",
      "*  * \n",
      "*  * \n",
      "*  * \n",
      "*  * \n",
      " **   \n",
      "\n"
     ]
    }
   ],
   "source": [
    "#16\n",
    "df2 = df.replace(1.0, '*').replace(0, ' ')\n",
    "for i in range(0, 50, 5):\n",
    "    s = []\n",
    "    for j in range(6):\n",
    "        s.append(''.join(df2.loc[j,i:i+4]))\n",
    "    print('\\n'.join(s), '\\n')\n",
    "        "
   ]
  },
  {
   "cell_type": "code",
   "execution_count": 18,
   "metadata": {
    "collapsed": false
   },
   "outputs": [
    {
     "data": {
      "text/plain": [
       "99145"
      ]
     },
     "execution_count": 18,
     "metadata": {},
     "output_type": "execute_result"
    }
   ],
   "source": [
    "#17\n",
    "with open(\"day_9.txt\") as f:\n",
    "    inp_9 = f.read().strip()\n",
    "    \n",
    "def decompress(s, recur=False):\n",
    "    i = 0\n",
    "    tot = 0\n",
    "    while i < len(s):\n",
    "        if s[i] != '(':\n",
    "            i += 1\n",
    "            tot += 1\n",
    "            continue\n",
    "        reg = re.findall(r'^\\((\\d+)x(\\d+)\\)', s[i:])\n",
    "        if not reg:\n",
    "            i += 1\n",
    "            tot += 1\n",
    "            continue\n",
    "        a, b = map(int, reg[0])\n",
    "        t = a\n",
    "        i += 3 + len(reg[0][0]) + len(reg[0][1])\n",
    "        if recur:\n",
    "            t = decompress(s[i: i+a], recur)\n",
    "        tot += t*b\n",
    "        i += a\n",
    "    return tot\n",
    "\n",
    "decompress(inp_9)"
   ]
  },
  {
   "cell_type": "code",
   "execution_count": 19,
   "metadata": {
    "collapsed": false
   },
   "outputs": [
    {
     "data": {
      "text/plain": [
       "10943094568"
      ]
     },
     "execution_count": 19,
     "metadata": {},
     "output_type": "execute_result"
    }
   ],
   "source": [
    "#18\n",
    "decompress(inp_9, True)"
   ]
  },
  {
   "cell_type": "code",
   "execution_count": 20,
   "metadata": {
    "collapsed": true
   },
   "outputs": [],
   "source": [
    "#19\n"
   ]
  },
  {
   "cell_type": "code",
   "execution_count": 21,
   "metadata": {
    "collapsed": true
   },
   "outputs": [],
   "source": [
    "#20\n"
   ]
  }
 ],
 "metadata": {
  "anaconda-cloud": {},
  "kernelspec": {
   "display_name": "Python [conda root]",
   "language": "python",
   "name": "conda-root-py"
  },
  "language_info": {
   "codemirror_mode": {
    "name": "ipython",
    "version": 3
   },
   "file_extension": ".py",
   "mimetype": "text/x-python",
   "name": "python",
   "nbconvert_exporter": "python",
   "pygments_lexer": "ipython3",
   "version": "3.5.2"
  }
 },
 "nbformat": 4,
 "nbformat_minor": 1
}
